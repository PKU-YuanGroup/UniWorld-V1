{
 "cells": [
  {
   "cell_type": "code",
   "execution_count": 4,
   "metadata": {},
   "outputs": [],
   "source": [
    "from univa.model.language_model.univa_qwen import UnivaQwen2ForCausalLM\n",
    "from univa.model.multimodal_denoiser.builder import build_denoise_tower\n",
    "from univa.model.multimodal_projector.builder import build_denoise_projector"
   ]
  },
  {
   "cell_type": "code",
   "execution_count": 2,
   "metadata": {},
   "outputs": [
    {
     "name": "stderr",
     "output_type": "stream",
     "text": [
      "You are using a model of type qwen2 to instantiate a model of type univa_qwen2. This is not supported for all configurations of models and can yield errors.\n",
      "Sliding Window Attention is enabled but not implemented for `sdpa`; unexpected results may be encountered.\n",
      "Loading checkpoint shards: 100%|██████████| 2/2 [00:04<00:00,  2.06s/it]\n"
     ]
    }
   ],
   "source": [
    "model = UnivaQwen2ForCausalLM.from_pretrained(\"/mnt/data/checkpoints/Qwen/Qwen2.5-3B-Instruct\")"
   ]
  },
  {
   "cell_type": "code",
   "execution_count": null,
   "metadata": {},
   "outputs": [],
   "source": [
    "self.vision_tower = build_vision_tower(config, delay_load=False)\n",
    "self.mm_projector = build_vision_projector(config)\n",
    "self.denoise_tower = build_denoise_tower(config, delay_load=False)\n",
    "self.mm_denoise_projector = build_denoise_projector(config)"
   ]
  }
 ],
 "metadata": {
  "kernelspec": {
   "display_name": "Python 3",
   "language": "python",
   "name": "python3"
  },
  "language_info": {
   "codemirror_mode": {
    "name": "ipython",
    "version": 3
   },
   "file_extension": ".py",
   "mimetype": "text/x-python",
   "name": "python",
   "nbconvert_exporter": "python",
   "pygments_lexer": "ipython3",
   "version": "3.10.16"
  }
 },
 "nbformat": 4,
 "nbformat_minor": 2
}
